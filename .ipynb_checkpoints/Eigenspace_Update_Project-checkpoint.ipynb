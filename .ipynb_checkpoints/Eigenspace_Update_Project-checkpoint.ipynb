{
  "nbformat": 4,
  "nbformat_minor": 0,
  "metadata": {
    "colab": {
      "name": "Eigenspace_Update_Project.ipynb",
      "provenance": [],
      "collapsed_sections": []
    },
    "kernelspec": {
      "name": "python3",
      "display_name": "Python 3"
    }
  },
  "cells": [
    {
      "cell_type": "code",
      "metadata": {
        "id": "FZGB4p9RR312"
      },
      "source": [
        "# Importing required libraries\n",
        "import numpy as np\n",
        "import numpy.linalg as la\n",
        "import timeit\n",
        "import cv2\n",
        "import glob\n",
        "from PIL import Image\n",
        "import matplotlib.pyplot as plt"
      ],
      "execution_count": null,
      "outputs": []
    },
    {
      "cell_type": "code",
      "metadata": {
        "id": "-uTcYfiKSWzl"
      },
      "source": [
        "def eigenSpaceUpdate(B, eps):\n",
        "    ''' Function for calculating the svd of eigenspace matrix'''\n",
        "    numImages = np.shape(B)[1]\n",
        "    A1 = B[:,0]\n",
        "    A1 = np.reshape(A1,(len(A1),1))\n",
        "    U = A1/la.norm(A1)\n",
        "    V = np.ones((1,1))\n",
        "    sigma = [la.norm(A1)]\n",
        "    for i in range(1,numImages):\n",
        "        Ai = B[:,i]\n",
        "        Ai = np.reshape(Ai,(len(Ai),1))\n",
        "        _U, _sigma, _V_trans = svd_update(U,sigma,np.transpose(V), Ai)\n",
        "        for j in range(len(_sigma)):\n",
        "            if _sigma[j]<=eps:\n",
        "                break\n",
        "        U = _U[:,:j+1]\n",
        "        sigma = _sigma[:j+1]\n",
        "        _V = np.transpose(_V_trans)\n",
        "        #print(_V)\n",
        "        V = _V[:,:j+1]\n",
        "    return U,sigma,V"
      ],
      "execution_count": null,
      "outputs": []
    },
    {
      "cell_type": "code",
      "metadata": {
        "id": "dBzIe5UXSbh8"
      },
      "source": [
        "def svd_update(U,sigma,V,Ai):\n",
        "    ''' Function for updating the svd of eigenspace matrix'''\n",
        "    x = np.transpose(U)@Ai\n",
        "    a_perp = Ai - U@x\n",
        "    a_perp = a_perp/la.norm(a_perp)\n",
        "    #print(\"A_perp - \",a_perp)\n",
        "    sigma_mat = np.identity(len(sigma))*sigma\n",
        "    zero = np.zeros((1,np.shape(sigma_mat)[1]))\n",
        "    #print(\"Zero - \", zero)\n",
        "    #print(np.transpose(a_perp)@Ai)\n",
        "    new_mat = np.vstack((np.hstack((sigma_mat,np.transpose(U)@Ai)),\n",
        "                         np.hstack((zero,np.transpose(a_perp)@Ai))))\n",
        "    \n",
        "    W,omega,Q_trans = la.svd(new_mat)\n",
        "    U_ = np.hstack((U,a_perp))@W\n",
        "    zero_col = np.zeros((np.shape(V)[0],1))\n",
        "    zero_row = np.zeros((1,np.shape(V)[1]))\n",
        "    #print(np.shape(zero_row))\n",
        "    V_ = np.hstack((V,zero_col))\n",
        "    V_ = np.vstack((V_,np.hstack((zero_row,np.ones((1,1))))))\n",
        "    #print(V_)\n",
        "    V_ = np.transpose(V_)@np.transpose(Q_trans)\n",
        "    #print(V_)\n",
        "    return U_, omega, np.transpose(V_)"
      ],
      "execution_count": null,
      "outputs": []
    },
    {
      "cell_type": "code",
      "metadata": {
        "id": "WRH5duSySgKE",
        "colab": {
          "base_uri": "https://localhost:8080/"
        },
        "outputId": "8143b030-7bba-402e-e19a-30735d7563ce"
      },
      "source": [
        "Btest = np.array([[1,2,3,4,5], [3,6,7,5,6], [2,4,6,8,9], [7,8,4,1,4], [3,7,6,1,2]])\n",
        "Btest = np.transpose(Btest)\n",
        "eps = 0.01\n",
        "start = timeit.default_timer()\n",
        "U, Sigma, V = eigenSpaceUpdate(Btest, eps)\n",
        "stop = timeit.default_timer()\n",
        "print('U', U)\n",
        "print('Sigma', Sigma)\n",
        "print('V', V)\n",
        "print('Time taken:', stop-start )"
      ],
      "execution_count": null,
      "outputs": [
        {
          "output_type": "stream",
          "text": [
            "U [[ 0.30225952 -0.45127698 -0.61234157 -0.54730671 -0.17458932]\n",
            " [ 0.50798119 -0.53916968  0.12360522  0.42584865  0.50460464]\n",
            " [ 0.4983413  -0.04092988  0.67123349 -0.29501509 -0.46086048]\n",
            " [ 0.37925131  0.57194828 -0.0258356  -0.42203373  0.59183077]\n",
            " [ 0.50834898  0.42052948 -0.39816789  0.50394634 -0.39017519]]\n",
            "Sigma [23.79619769  8.82975609  3.40370233  0.37933597  0.21748041]\n",
            "V [[ 0.28878546  0.31009175 -0.13091995  0.66152996 -0.60471823]\n",
            " [ 0.52064642  0.05748291  0.31878688 -0.62853121 -0.4784835 ]\n",
            " [ 0.55620831  0.57255711 -0.14485908 -0.00543616  0.58463405]\n",
            " [ 0.44484748 -0.60952416 -0.65549871 -0.028119    0.0110355 ]\n",
            " [ 0.37185117 -0.44855042  0.65617999  0.40805196  0.25189413]]\n",
            "Time taken: 0.003730316000201128\n"
          ],
          "name": "stdout"
        }
      ]
    },
    {
      "cell_type": "code",
      "metadata": {
        "id": "1GXoQ9TUWFnW",
        "colab": {
          "base_uri": "https://localhost:8080/"
        },
        "outputId": "1161c0ba-c9a5-497f-ae51-ff9f55bb7e1f"
      },
      "source": [
        "start = timeit.default_timer()\n",
        "U, Sigma, V = la.svd(Btest)\n",
        "stop = timeit.default_timer()\n",
        "print('U', U)\n",
        "print('Sigma', Sigma)\n",
        "print('V', V)\n",
        "print('Time taken:', stop-start )"
      ],
      "execution_count": null,
      "outputs": [
        {
          "output_type": "stream",
          "text": [
            "U [[-0.30225952 -0.45127698  0.61234157 -0.54730671 -0.17458932]\n",
            " [-0.50798119 -0.53916968 -0.12360522  0.42584865  0.50460464]\n",
            " [-0.4983413  -0.04092988 -0.67123349 -0.29501509 -0.46086048]\n",
            " [-0.37925131  0.57194828  0.0258356  -0.42203373  0.59183077]\n",
            " [-0.50834898  0.42052948  0.39816789  0.50394634 -0.39017519]]\n",
            "Sigma [23.79619769  8.82975609  3.40370233  0.37933597  0.21748041]\n",
            "V [[-0.28878546 -0.52064642 -0.55620831 -0.44484748 -0.37185117]\n",
            " [ 0.31009175  0.05748291  0.57255711 -0.60952416 -0.44855042]\n",
            " [ 0.13091995 -0.31878688  0.14485908  0.65549871 -0.65617999]\n",
            " [ 0.66152996 -0.62853121 -0.00543616 -0.028119    0.40805196]\n",
            " [-0.60471823 -0.4784835   0.58463405  0.0110355   0.25189413]]\n",
            "Time taken: 0.0004169939998064365\n"
          ],
          "name": "stdout"
        }
      ]
    },
    {
      "cell_type": "code",
      "metadata": {
        "id": "JWR6rF-ZSjwh"
      },
      "source": [
        "!wget http://www.cs.columbia.edu/CAVE/databases/SLAM_coil-20_coil-100/coil-100/coil-100.zip"
      ],
      "execution_count": null,
      "outputs": []
    },
    {
      "cell_type": "code",
      "metadata": {
        "id": "U6pmGJYNSsr1"
      },
      "source": [
        "!unzip coil-100.zip"
      ],
      "execution_count": null,
      "outputs": []
    },
    {
      "cell_type": "code",
      "metadata": {
        "id": "faJlZL3t7-ye"
      },
      "source": [
        "for img in glob.glob(\"coil-100/obj1__*.png\"):\n",
        "    i = Image.open(img)\n",
        "    # i.show()\n",
        "    plt.imshow(i)\n",
        "    plt.show()\n",
        "    cv_img = cv2.imread(img)\n",
        "    cv_img = cv2.resize(cv_img, (12,12))\n",
        "    cv_img = cv2.cvtColor(cv_img, cv2.COLOR_BGR2GRAY)"
      ],
      "execution_count": null,
      "outputs": []
    },
    {
      "cell_type": "code",
      "metadata": {
        "id": "6qU2rzN0SoCs"
      },
      "source": [
        ""
      ],
      "execution_count": null,
      "outputs": []
    },
    {
      "cell_type": "code",
      "metadata": {
        "id": "yNa3QslPSy5W"
      },
      "source": [
        "import cv2\n",
        "import glob\n",
        "from PIL import Image\n",
        "\n",
        "N = 0\n",
        "img_es = list()   # image eigenspace array\n",
        "for img in glob.glob(\"coil-100/obj1__*.png\"):\n",
        "    \n",
        "    cv_img = cv2.imread(img)\n",
        "    cv_img = cv2.resize(cv_img, (12,12))\n",
        "    cv_img = cv2.cvtColor(cv_img, cv2.COLOR_BGR2GRAY)\n",
        "    arr = np.array(cv_img)\n",
        "    shape = arr.shape\n",
        "    # print(shape)\n",
        "    N += 1\n",
        "    # make a 1-dimensional view of arr\n",
        "    flat_arr = arr.ravel()\n",
        "    img_es.append(flat_arr)\n",
        "\n",
        "img_es = np.asarray(img_es)\n",
        "print(img_es)"
      ],
      "execution_count": null,
      "outputs": []
    },
    {
      "cell_type": "code",
      "metadata": {
        "id": "CvZcZOsn0G4-"
      },
      "source": [
        "# To check if eigenspaces are changing at all\n",
        "l = len(img_es[0])\n",
        "print(l)\n",
        "for i in range(l):\n",
        "  if img_es[0][i] != img_es[1][i]:\n",
        "    print(i)\n",
        "    print(False)\n",
        "    break\n"
      ],
      "execution_count": null,
      "outputs": []
    },
    {
      "cell_type": "code",
      "metadata": {
        "id": "2htfFLgBS_v7"
      },
      "source": [
        "k = 1.0\n",
        "start = timeit.default_timer()\n",
        "U, Sigma, V = eigenSpaceUpdate(img_es, k)\n",
        "stop = timeit.default_timer()\n",
        "print('U', U)\n",
        "print('Sigma', Sigma)\n",
        "print('V', V)\n",
        "print('Time taken:', stop-start )"
      ],
      "execution_count": null,
      "outputs": []
    },
    {
      "cell_type": "code",
      "metadata": {
        "id": "a2UFQO9ehuoG"
      },
      "source": [
        "start = timeit.default_timer()\n",
        "U, Sigma, V = la.svd(img_es)\n",
        "stop = timeit.default_timer()\n",
        "print('U', U)\n",
        "print('Sigma', Sigma)\n",
        "print('V', V)\n",
        "print('Time taken for batch svd:', stop-start )"
      ],
      "execution_count": null,
      "outputs": []
    },
    {
      "cell_type": "code",
      "metadata": {
        "id": "MuWTa22UCOx8"
      },
      "source": [
        "k = [0.001, 0.005, 0.01, 0.05, 0.1, 0.5]\n",
        "Time_taken = list()\n",
        "for i in k:\n",
        "  start = timeit.default_timer()\n",
        "  U, Sigma, V = eigenSpaceUpdate(img_es, i)\n",
        "  stop = timeit.default_timer()\n",
        "  # print('U', U)\n",
        "  # print('Sigma', Sigma)\n",
        "  # print('V', V)\n",
        "  Time_taken.append(stop - start)\n",
        "\n",
        "print(Time_taken)"
      ],
      "execution_count": null,
      "outputs": []
    },
    {
      "cell_type": "code",
      "metadata": {
        "id": "0Jc2jxI-mktp"
      },
      "source": [
        "N = 0\n",
        "img_es1 = list()   # image eigenspace array\n",
        "for img in glob.glob(\"coil-100/obj1__*.png\"):\n",
        "    cv_img = cv2.imread(img)\n",
        "    cv_img = cv2.resize(cv_img, (28,28))\n",
        "    cv_img = cv2.cvtColor(cv_img, cv2.COLOR_BGR2GRAY)\n",
        "    arr = np.array(cv_img)\n",
        "    shape = arr.shape\n",
        "    # print(shape)\n",
        "    N += 1\n",
        "    # make a 1-dimensional view of arr\n",
        "    flat_arr = arr.ravel()\n",
        "    img_es1.append(flat_arr)\n",
        "\n",
        "img_es1 = np.asarray(img_es1)\n",
        "print(img_es1)"
      ],
      "execution_count": null,
      "outputs": []
    },
    {
      "cell_type": "code",
      "metadata": {
        "id": "VTztWjZgecd6"
      },
      "source": [
        "k = 0.5\n",
        "start = timeit.default_timer()\n",
        "U, Sigma, V = eigenSpaceUpdate(img_es1, k)\n",
        "stop = timeit.default_timer()\n",
        "print('U', U)\n",
        "print('Sigma', Sigma)\n",
        "print('V', V)\n",
        "print('Time taken:', stop-start )"
      ],
      "execution_count": null,
      "outputs": []
    },
    {
      "cell_type": "code",
      "metadata": {
        "id": "hdq-iDVZm2P0"
      },
      "source": [
        "k = [1.0]\n",
        "Time_taken = list()\n",
        "for i in k:\n",
        "  start = timeit.default_timer()\n",
        "  U, Sigma, V = eigenSpaceUpdate(img_es1, i)\n",
        "  stop = timeit.default_timer()\n",
        "  # print('U', U)\n",
        "  # print('Sigma', Sigma)\n",
        "  # print('V', V)\n",
        "  Time_taken.append(stop - start)\n",
        "\n",
        "print(Time_taken)"
      ],
      "execution_count": null,
      "outputs": []
    },
    {
      "cell_type": "code",
      "metadata": {
        "id": "Mg26dqD0m4Mn"
      },
      "source": [
        "N = 0\n",
        "img_es2 = list()   # image eigenspace array\n",
        "for img in glob.glob(\"coil-100/obj2__*.png\"):\n",
        "    i = Image.open(img)\n",
        "    plt.imshow(i)\n",
        "    plt.show()\n",
        "    cv_img = cv2.imread(img)\n",
        "    cv_img = cv2.resize(cv_img, (12,12))\n",
        "    cv_img = cv2.cvtColor(cv_img, cv2.COLOR_BGR2GRAY)\n",
        "    arr = np.array(cv_img)\n",
        "    shape = arr.shape\n",
        "    # print(shape)\n",
        "    N += 1\n",
        "    # make a 1-dimensional view of arr\n",
        "    flat_arr = arr.ravel()\n",
        "    img_es2.append(flat_arr)\n",
        "\n",
        "img_es2 = np.asarray(img_es2)\n",
        "print(img_es2)"
      ],
      "execution_count": null,
      "outputs": []
    },
    {
      "cell_type": "code",
      "metadata": {
        "id": "wJE62G74rawz"
      },
      "source": [
        "k = [0.01, 0.05, 0.1, 0.5]\n",
        "Time_taken = list()\n",
        "for i in k:\n",
        "  start = timeit.default_timer()\n",
        "  U, Sigma, V = eigenSpaceUpdate(img_es2, i)\n",
        "  stop = timeit.default_timer()\n",
        "  # print('U', U)\n",
        "  # print('Sigma', Sigma)\n",
        "  # print('V', V)\n",
        "  Time_taken.append(stop - start)\n",
        "\n",
        "print(Time_taken)"
      ],
      "execution_count": null,
      "outputs": []
    },
    {
      "cell_type": "code",
      "metadata": {
        "id": "GOrjsUPfrkp9"
      },
      "source": [
        "for img in glob.glob(\"coil-100/obj74__*.png\"):\n",
        "    print(img)\n",
        "    i = Image.open(img)\n",
        "    # i.show()\n",
        "    plt.imshow(i)\n",
        "    plt.show()"
      ],
      "execution_count": null,
      "outputs": []
    },
    {
      "cell_type": "code",
      "metadata": {
        "id": "2y4pZToYY_or"
      },
      "source": [
        ""
      ],
      "execution_count": null,
      "outputs": []
    }
  ]
}